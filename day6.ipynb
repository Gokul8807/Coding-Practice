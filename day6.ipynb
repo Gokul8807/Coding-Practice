{
 "cells": [
  {
   "cell_type": "code",
   "execution_count": 3,
   "id": "1d8a3f77",
   "metadata": {},
   "outputs": [
    {
     "name": "stdout",
     "output_type": "stream",
     "text": [
      "prime\n"
     ]
    }
   ],
   "source": [
    "def is_prime(n):\n",
    "    if n <= 1:\n",
    "        return \"not prime\"\n",
    "    i = 2\n",
    "    while i * i <= n:   \n",
    "        if n % i == 0:\n",
    "            return \"not prime\"\n",
    "        i += 1\n",
    "    return \"prime\"\n",
    "\n",
    "# Test cases\n",
    "print(is_prime(19))  # not prime\n"
   ]
  },
  {
   "cell_type": "code",
   "execution_count": 3,
   "id": "01d61222",
   "metadata": {},
   "outputs": [
    {
     "name": "stdout",
     "output_type": "stream",
     "text": [
      "1\n",
      "5\n",
      "6\n"
     ]
    }
   ],
   "source": [
    "num=[1,1,2,3,4,5,5,6,6,7]\n",
    "for i in range(len(num)):\n",
    "    for j in range(i+1,len(num)):\n",
    "        if num[i]==num[j]:\n",
    "            print(num[i])"
   ]
  },
  {
   "cell_type": "code",
   "execution_count": null,
   "id": "c14e9c1f",
   "metadata": {},
   "outputs": [
    {
     "data": {
      "text/plain": [
       "'not prime'"
      ]
     },
     "execution_count": 14,
     "metadata": {},
     "output_type": "execute_result"
    }
   ],
   "source": [
    "def is_prime(n):\n",
    "    if n <= 1:\n",
    "        return \"not prime\"\n",
    "    for i in range(2, n // 2 + 1): \n",
    "        if n % i == 0:              \n",
    "            return \"not prime\"\n",
    "    return \"prime\"\n",
    "is_prime(10)\n"
   ]
  },
  {
   "cell_type": "code",
   "execution_count": null,
   "id": "67b2179d",
   "metadata": {},
   "outputs": [],
   "source": []
  },
  {
   "cell_type": "code",
   "execution_count": 19,
   "id": "3e054417",
   "metadata": {},
   "outputs": [
    {
     "name": "stdout",
     "output_type": "stream",
     "text": [
      "not prime\n"
     ]
    }
   ],
   "source": [
    "n = 10\n",
    "\n",
    "if n <= 1:\n",
    "    print(\"not prime\")\n",
    "else:\n",
    "    for i in range(2, n // 2 + 1):\n",
    "        if n % i == 0:\n",
    "            print(\"not prime\")\n",
    "            break\n",
    "    else:\n",
    "        print(\"prime\")\n"
   ]
  }
 ],
 "metadata": {
  "kernelspec": {
   "display_name": "Python 3",
   "language": "python",
   "name": "python3"
  },
  "language_info": {
   "codemirror_mode": {
    "name": "ipython",
    "version": 3
   },
   "file_extension": ".py",
   "mimetype": "text/x-python",
   "name": "python",
   "nbconvert_exporter": "python",
   "pygments_lexer": "ipython3",
   "version": "3.13.1"
  }
 },
 "nbformat": 4,
 "nbformat_minor": 5
}
