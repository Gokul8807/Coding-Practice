{
 "cells": [
  {
   "cell_type": "code",
   "execution_count": null,
   "id": "1f38521d",
   "metadata": {},
   "outputs": [],
   "source": [
    "a = [1,2,3,4]\n",
    "count = 0\n",
    "for i in a:\n",
    "    count += i\n",
    "print(count)"
   ]
  },
  {
   "cell_type": "code",
   "execution_count": 14,
   "id": "9e8d2986",
   "metadata": {},
   "outputs": [
    {
     "name": "stdout",
     "output_type": "stream",
     "text": [
      "54321\n"
     ]
    }
   ],
   "source": [
    "num = 12345\n",
    "count = 0\n",
    "while num > 0:\n",
    "    a = num % 10\n",
    "    count = count*10+a\n",
    "    num = num //10\n",
    "print(count)"
   ]
  },
  {
   "cell_type": "code",
   "execution_count": 21,
   "id": "16712829",
   "metadata": {},
   "outputs": [
    {
     "name": "stdout",
     "output_type": "stream",
     "text": [
      "palidrome\n"
     ]
    }
   ],
   "source": [
    "num = 121\n",
    "r = num\n",
    "count = 0\n",
    "while num > 0:\n",
    "    a = num % 10\n",
    "    count = count * 10 + a\n",
    "    num = num // 10\n",
    "if r == count:\n",
    "    print(\"palidrome\")\n",
    "else:\n",
    "    print(\"not a palidrome\")\n"
   ]
  },
  {
   "cell_type": "code",
   "execution_count": 26,
   "id": "e8c7b954",
   "metadata": {},
   "outputs": [],
   "source": [
    "class Solution:\n",
    "    def getFactors(self, n: int) -> list:\n",
    "        return [i for i in range(1, n+1) if n % i == 0]\n",
    "\n"
   ]
  }
 ],
 "metadata": {
  "kernelspec": {
   "display_name": "Python 3",
   "language": "python",
   "name": "python3"
  },
  "language_info": {
   "codemirror_mode": {
    "name": "ipython",
    "version": 3
   },
   "file_extension": ".py",
   "mimetype": "text/x-python",
   "name": "python",
   "nbconvert_exporter": "python",
   "pygments_lexer": "ipython3",
   "version": "3.13.1"
  }
 },
 "nbformat": 4,
 "nbformat_minor": 5
}
