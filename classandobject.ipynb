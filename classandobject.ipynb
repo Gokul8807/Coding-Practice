{
 "cells": [
  {
   "cell_type": "code",
   "execution_count": 16,
   "metadata": {},
   "outputs": [
    {
     "name": "stdout",
     "output_type": "stream",
     "text": [
      "55555\n",
      "ctype\n",
      "charge type is b type\n",
      "hello gi\n"
     ]
    }
   ],
   "source": [
    "class main():\n",
    "    chargetype=\"ctype\"\n",
    "    def __init__(self):\n",
    "        self.brand=\"\"\n",
    "        self.price=\"\"\n",
    "    def setprice(self,price):\n",
    "        self.price=price\n",
    "    def getprice(self):\n",
    "        print(self.price)\n",
    "    @classmethod\n",
    "    def change(cls):\n",
    "        cls.change=\"btype\"\n",
    "        print(\"charge type is b type\")\n",
    "    @staticmethod\n",
    "    def info():\n",
    "        print(\"hello gi\")\n",
    "hp=main()\n",
    "hp.setprice(55555)\n",
    "hp.getprice()\n",
    "print(main.chargetype)\n",
    "main.change()\n",
    "hp.info()"
   ]
  },
  {
   "cell_type": "code",
   "execution_count": 24,
   "metadata": {},
   "outputs": [
    {
     "name": "stdout",
     "output_type": "stream",
     "text": [
      "dad phone\n",
      "dad phone\n"
     ]
    }
   ],
   "source": [
    "class dad():\n",
    "    def phone(self):\n",
    "        print(\"dad phone\")\n",
    "class son(dad):\n",
    "    def lap(self):\n",
    "        print(\"son lap\")\n",
    "gokul = dad()\n",
    "gokul.phone()\n",
    "ram = son()\n",
    "ram.phone()"
   ]
  },
  {
   "cell_type": "code",
   "execution_count": 21,
   "metadata": {},
   "outputs": [
    {
     "name": "stdout",
     "output_type": "stream",
     "text": [
      "Dad's phone\n",
      "Son's laptop\n"
     ]
    }
   ],
   "source": [
    "class Dad:\n",
    "    def phone(self):\n",
    "        print(\"Dad's phone\")\n",
    "\n",
    "class Son:\n",
    "    def lap(self):\n",
    "        print(\"Son's laptop\")\n",
    "\n",
    "# Creating instances\n",
    "gokul = Dad()  # Corrected instantiation\n",
    "gokul.phone()\n",
    "\n",
    "ram = Son()  # Corrected instantiation\n",
    "ram.lap()\n"
   ]
  }
 ],
 "metadata": {
  "kernelspec": {
   "display_name": "Python 3",
   "language": "python",
   "name": "python3"
  },
  "language_info": {
   "codemirror_mode": {
    "name": "ipython",
    "version": 3
   },
   "file_extension": ".py",
   "mimetype": "text/x-python",
   "name": "python",
   "nbconvert_exporter": "python",
   "pygments_lexer": "ipython3",
   "version": "3.10.0"
  }
 },
 "nbformat": 4,
 "nbformat_minor": 2
}
