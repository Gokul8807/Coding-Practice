{
 "cells": [
  {
   "cell_type": "code",
   "execution_count": 10,
   "id": "f4432b9b",
   "metadata": {},
   "outputs": [
    {
     "name": "stdout",
     "output_type": "stream",
     "text": [
      "12\n"
     ]
    }
   ],
   "source": [
    "#sum of all even numbers\n",
    "def sum_of_even(n):\n",
    "    count = 0\n",
    "    for i in range (n + 1):\n",
    "        if i % 2 == 0:\n",
    "            count += i\n",
    "    print(count)\n",
    "sum_of_even(6)\n"
   ]
  },
  {
   "cell_type": "code",
   "execution_count": 15,
   "id": "3fa326ce",
   "metadata": {},
   "outputs": [
    {
     "name": "stdout",
     "output_type": "stream",
     "text": [
      "number of vowels:5\n"
     ]
    }
   ],
   "source": [
    "#Count Vowels\n",
    "def vowel(s):\n",
    "    v = \"aeiouAEIOU\"\n",
    "    count = 0\n",
    "    for i in s:\n",
    "        if i in v:\n",
    "            count += 1\n",
    "    print(f\"number of vowels:{count}\")\n",
    "vowel(\"Programming is fun\")\n",
    "    "
   ]
  },
  {
   "cell_type": "code",
   "execution_count": 16,
   "id": "1d9acc75",
   "metadata": {},
   "outputs": [
    {
     "data": {
      "text/plain": [
       "'nohtyp dlrow olleh'"
      ]
     },
     "execution_count": 16,
     "metadata": {},
     "output_type": "execute_result"
    }
   ],
   "source": [
    "# reverse a string\n",
    "def reverse(s):\n",
    "    return s[::-1]\n",
    "reverse(\"hello world python\")"
   ]
  },
  {
   "cell_type": "code",
   "execution_count": 27,
   "id": "94267a34",
   "metadata": {},
   "outputs": [
    {
     "name": "stdout",
     "output_type": "stream",
     "text": [
      "5\n"
     ]
    }
   ],
   "source": [
    "# largest\n",
    "def large(n):\n",
    "    min = n[0]\n",
    "    for i in range(len(n)):\n",
    "        if min< n[i]:\n",
    "           min = n[i]\n",
    "    print(n[i])\n",
    "large([1,2,3,4,5])"
   ]
  }
 ],
 "metadata": {
  "kernelspec": {
   "display_name": "Python 3",
   "language": "python",
   "name": "python3"
  },
  "language_info": {
   "codemirror_mode": {
    "name": "ipython",
    "version": 3
   },
   "file_extension": ".py",
   "mimetype": "text/x-python",
   "name": "python",
   "nbconvert_exporter": "python",
   "pygments_lexer": "ipython3",
   "version": "3.13.1"
  }
 },
 "nbformat": 4,
 "nbformat_minor": 5
}
