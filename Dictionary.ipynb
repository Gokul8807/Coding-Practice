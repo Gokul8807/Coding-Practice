{
 "cells": [
  {
   "cell_type": "code",
   "execution_count": 7,
   "metadata": {},
   "outputs": [
    {
     "name": "stdout",
     "output_type": "stream",
     "text": [
      "gokul : like code\n",
      "nabi : like code\n",
      "raj : didn't like code\n"
     ]
    }
   ],
   "source": [
    "Dict = {\n",
    "    \"gokul\": \"like code\",\n",
    "    \"nabi\": \"like code\",\n",
    "    \"raj\": \"didn't like code\"\n",
    "}\n",
    "for i in Dict:\n",
    "    print(i,\":\",Dict[i]) \n",
    "\n"
   ]
  },
  {
   "cell_type": "code",
   "execution_count": 15,
   "metadata": {},
   "outputs": [
    {
     "name": "stdout",
     "output_type": "stream",
     "text": [
      "34\n",
      "45\n",
      "55\n"
     ]
    }
   ],
   "source": [
    "num = {\n",
    "    \"n1\":\"34\",\n",
    "    \"n2\":\"45\",\n",
    "    \"n3\":\"55\"\n",
    "}\n",
    "for i in num:\n",
    "    print(num[i])\n",
    "\n",
    "    "
   ]
  },
  {
   "cell_type": "code",
   "execution_count": 6,
   "metadata": {},
   "outputs": [
    {
     "name": "stdout",
     "output_type": "stream",
     "text": [
      "gokul : like code\n",
      "nabi : like code\n",
      "raj : didn't like code\n"
     ]
    }
   ],
   "source": [
    "def Dictionary():\n",
    "    Dict = {\n",
    "        \"gokul\": \"like code\",\n",
    "        \"nabi\": \"like code\",\n",
    "        \"raj\": \"didn't like code\"\n",
    "    }\n",
    "\n",
    "    for i in Dict:\n",
    "        print(i,\":\",Dict[i]) \n",
    "Dictionary()\n",
    "\n"
   ]
  }
 ],
 "metadata": {
  "kernelspec": {
   "display_name": "Python 3",
   "language": "python",
   "name": "python3"
  },
  "language_info": {
   "codemirror_mode": {
    "name": "ipython",
    "version": 3
   },
   "file_extension": ".py",
   "mimetype": "text/x-python",
   "name": "python",
   "nbconvert_exporter": "python",
   "pygments_lexer": "ipython3",
   "version": "3.10.0"
  }
 },
 "nbformat": 4,
 "nbformat_minor": 2
}
